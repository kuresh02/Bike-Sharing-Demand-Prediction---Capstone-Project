{
  "nbformat": 4,
  "nbformat_minor": 0,
  "metadata": {
    "kernelspec": {
      "display_name": "Python 3",
      "language": "python",
      "name": "python3"
    },
    "language_info": {
      "codemirror_mode": {
        "name": "ipython",
        "version": 3
      },
      "file_extension": ".py",
      "mimetype": "text/x-python",
      "name": "python",
      "nbconvert_exporter": "python",
      "pygments_lexer": "ipython3",
      "version": "3.6.6"
    },
    "colab": {
      "provenance": [],
      "include_colab_link": true
    }
  },
  "cells": [
    {
      "cell_type": "markdown",
      "metadata": {
        "id": "view-in-github",
        "colab_type": "text"
      },
      "source": [
        "<a href=\"https://colab.research.google.com/github/kuresh02/Bike-Sharing-Demand-Prediction---Capstone-Project/blob/main/Capstone_Project__Sharing_Demand_Prediction.ipynb\" target=\"_parent\"><img src=\"https://colab.research.google.com/assets/colab-badge.svg\" alt=\"Open In Colab\"/></a>"
      ]
    },
    {
      "cell_type": "markdown",
      "source": [],
      "metadata": {
        "id": "Nze4R1zFzntY"
      }
    },
    {
      "cell_type": "markdown",
      "metadata": {
        "id": "tOGC-qoyhJeX"
      },
      "source": [
        "# <b><u> Project Title : Seoul Bike Sharing Demand Prediction </u></b>\n",
        "# <img src=\"https://c0.wallpaperflare.com/preview/744/742/341/action-bicycles-bike-rental-grass.jpg\" width=\"2500\" height=\"650\" ></img>"
      ]
    },
    {
      "cell_type": "markdown",
      "metadata": {
        "id": "Y06xIdG26kRF"
      },
      "source": [
        "## <b> Problem Description </b>\n",
        "\n",
        "### Currently Rental bikes are introduced in many urban cities for the enhancement of mobility comfort. It is important to make the rental bike available and accessible to the public at the right time as it lessens the waiting time. Eventually, providing the city with a stable supply of rental bikes becomes a major concern. The crucial part is the prediction of bike count required at each hour for the stable supply of rental bikes.\n"
      ]
    },
    {
      "cell_type": "markdown",
      "metadata": {
        "id": "AlLxAtlziMbP"
      },
      "source": [
        "## <b> Data Description </b>\n",
        "\n",
        "### <b> The dataset contains weather information (Temperature, Humidity, Windspeed, Visibility, Dewpoint, Solar radiation, Snowfall, Rainfall), the number of bikes rented per hour and date information.</b>\n",
        "\n",
        "\n",
        "### <b>Attribute Information: </b>\n",
        "\n",
        "* ### Date : year-month-day\n",
        "* ### Rented Bike count - Count of bikes rented at each hour\n",
        "* ### Hour - Hour of he day\n",
        "* ### Temperature-Temperature in Celsius\n",
        "* ### Humidity - %\n",
        "* ### Windspeed - m/s\n",
        "* ### Visibility - 10m\n",
        "* ### Dew point temperature - Celsius\n",
        "* ### Solar radiation - MJ/m2\n",
        "* ### Rainfall - mm\n",
        "* ### Snowfall - cm\n",
        "* ### Seasons - Winter, Spring, Summer, Autumn\n",
        "* ### Holiday - Holiday/No holiday\n",
        "* ### Functional Day - NoFunc(Non Functional Hours), Fun(Functional hours)"
      ]
    },
    {
      "cell_type": "markdown",
      "source": [
        "# **Import required modules and Loading our Dataset**"
      ],
      "metadata": {
        "id": "3jEk8sew1OAn"
      }
    },
    {
      "cell_type": "code",
      "metadata": {
        "id": "dByMsuzT8Tnw"
      },
      "source": [
        "# import the modules required\n",
        "import pandas as pd\n",
        "import numpy as np\n",
        "import matplotlib.pyplot as plt\n",
        "%matplotlib inline\n",
        "import seaborn as sns\n",
        "\n",
        "from datetime import datetime\n",
        "import datetime as dt\n",
        "\n",
        "from sklearn.preprocessing import MinMaxScaler\n",
        "from sklearn.preprocessing import OneHotEncoder\n",
        "from sklearn.preprocessing import MultiLabelBinarizer"
      ],
      "execution_count": 4,
      "outputs": []
    },
    {
      "cell_type": "markdown",
      "source": [
        "# **Mount the drive and import the dataset**"
      ],
      "metadata": {
        "id": "qwiwDktU5Tji"
      }
    },
    {
      "cell_type": "code",
      "source": [
        "# mount the google drive for import dataset\n",
        "from google.colab import drive\n",
        "drive.mount('/content/drive')"
      ],
      "metadata": {
        "colab": {
          "base_uri": "https://localhost:8080/"
        },
        "id": "u2-OEn6F5cPy",
        "outputId": "e31f2240-ada9-4a15-e5bc-086b261ce608"
      },
      "execution_count": 5,
      "outputs": [
        {
          "output_type": "stream",
          "name": "stdout",
          "text": [
            "Drive already mounted at /content/drive; to attempt to forcibly remount, call drive.mount(\"/content/drive\", force_remount=True).\n"
          ]
        }
      ]
    },
    {
      "cell_type": "code",
      "source": [
        "# loding the dataset of seoul bike data from google driver\n",
        "\n",
        "path=\"/content/drive/MyDrive/Capstone_Project/Capstone_Project_02_Supervised ML - Regression/ColabNote_and_Data/SeoulBikeData.csv\"\n",
        "bike_df=pd.read_csv(path,encoding ='latin')"
      ],
      "metadata": {
        "id": "fK_uV-ec5uFl"
      },
      "execution_count": 11,
      "outputs": []
    },
    {
      "cell_type": "markdown",
      "source": [
        "# **Understanding Our dataset**"
      ],
      "metadata": {
        "id": "gJTBPCIG8czG"
      }
    },
    {
      "cell_type": "markdown",
      "source": [
        "## **Data summary**"
      ],
      "metadata": {
        "id": "TJ6qvVMf8qOX"
      }
    },
    {
      "cell_type": "markdown",
      "source": [
        "### ***Find the head and tail of dataframe***"
      ],
      "metadata": {
        "id": "tLdBsbaY-9ZN"
      }
    },
    {
      "cell_type": "code",
      "source": [
        "# view the top 5 row of our dataset \n",
        "bike_df.head()"
      ],
      "metadata": {
        "id": "mOw0UTqa8pUN"
      },
      "execution_count": null,
      "outputs": []
    },
    {
      "cell_type": "code",
      "source": [
        "# view the bottom 5 row of our dataset \n",
        "bike_df.tail()"
      ],
      "metadata": {
        "id": "pu6wIktx8o1m"
      },
      "execution_count": null,
      "outputs": []
    },
    {
      "cell_type": "markdown",
      "source": [
        "### ***Finding the total row and coulmn in the dataset***"
      ],
      "metadata": {
        "id": "ve6-A_1k_I_u"
      }
    },
    {
      "cell_type": "code",
      "source": [
        "#find the shape of our dataset with total number of row and coulumn\n",
        "print (bike_df.shape)\n",
        "print (f'Total number of rows in this dataet is :{bike_df.shape[0]}')\n",
        "print (f'Total number of columns in this dataet is :{bike_df.shape[1]}')"
      ],
      "metadata": {
        "colab": {
          "base_uri": "https://localhost:8080/"
        },
        "id": "3VUkITDv9ejO",
        "outputId": "9b5e9adb-fd85-42c8-dd27-d744a0f0fc79"
      },
      "execution_count": 20,
      "outputs": [
        {
          "output_type": "stream",
          "name": "stdout",
          "text": [
            "(8760, 14)\n",
            "Total number of rows in this dataet is :8760\n",
            "Total number of columns in this dataet is :14\n"
          ]
        }
      ]
    },
    {
      "cell_type": "markdown",
      "source": [
        "### ***Finding all the coulmn present in the dataframe***"
      ],
      "metadata": {
        "id": "LCyaWelY_R4z"
      }
    },
    {
      "cell_type": "code",
      "source": [
        "#find all the column name present in the dataset\n",
        "print (\"The features present in the dataset: \")\n",
        "bike_df.columns\n",
        "\n"
      ],
      "metadata": {
        "colab": {
          "base_uri": "https://localhost:8080/"
        },
        "id": "umLKvIkL-7Y9",
        "outputId": "45d45434-eec0-4b19-f1de-498234b49f85"
      },
      "execution_count": 22,
      "outputs": [
        {
          "output_type": "stream",
          "name": "stdout",
          "text": [
            "The features present in the dataset: \n"
          ]
        },
        {
          "output_type": "execute_result",
          "data": {
            "text/plain": [
              "Index(['Date', 'Rented Bike Count', 'Hour', 'Temperature(°C)', 'Humidity(%)',\n",
              "       'Wind speed (m/s)', 'Visibility (10m)', 'Dew point temperature(°C)',\n",
              "       'Solar Radiation (MJ/m2)', 'Rainfall(mm)', 'Snowfall (cm)', 'Seasons',\n",
              "       'Holiday', 'Functioning Day'],\n",
              "      dtype='object')"
            ]
          },
          "metadata": {},
          "execution_count": 22
        }
      ]
    },
    {
      "cell_type": "markdown",
      "source": [
        "### ***Information regarding overall dataset***"
      ],
      "metadata": {
        "id": "hAS3VcBnAPS7"
      }
    },
    {
      "cell_type": "code",
      "source": [
        "#check details about the data set\n",
        "bike_df.info()"
      ],
      "metadata": {
        "colab": {
          "base_uri": "https://localhost:8080/"
        },
        "id": "OGgcUOR8AWnz",
        "outputId": "ee398473-5f85-49ce-8691-933fe0f3b60c"
      },
      "execution_count": 24,
      "outputs": [
        {
          "output_type": "stream",
          "name": "stdout",
          "text": [
            "<class 'pandas.core.frame.DataFrame'>\n",
            "RangeIndex: 8760 entries, 0 to 8759\n",
            "Data columns (total 14 columns):\n",
            " #   Column                     Non-Null Count  Dtype  \n",
            "---  ------                     --------------  -----  \n",
            " 0   Date                       8760 non-null   object \n",
            " 1   Rented Bike Count          8760 non-null   int64  \n",
            " 2   Hour                       8760 non-null   int64  \n",
            " 3   Temperature(°C)            8760 non-null   float64\n",
            " 4   Humidity(%)                8760 non-null   int64  \n",
            " 5   Wind speed (m/s)           8760 non-null   float64\n",
            " 6   Visibility (10m)           8760 non-null   int64  \n",
            " 7   Dew point temperature(°C)  8760 non-null   float64\n",
            " 8   Solar Radiation (MJ/m2)    8760 non-null   float64\n",
            " 9   Rainfall(mm)               8760 non-null   float64\n",
            " 10  Snowfall (cm)              8760 non-null   float64\n",
            " 11  Seasons                    8760 non-null   object \n",
            " 12  Holiday                    8760 non-null   object \n",
            " 13  Functioning Day            8760 non-null   object \n",
            "dtypes: float64(6), int64(4), object(4)\n",
            "memory usage: 958.2+ KB\n"
          ]
        }
      ]
    },
    {
      "cell_type": "markdown",
      "source": [
        "## ***Observation on dataset info***\n",
        "\n",
        "1. Null values/missing values- 0\n",
        "2. Data column need to covert from object datatype to proper data type.\n",
        "3. Columns need to convert from object type to numeric type.\n",
        "\n",
        "  *   List seasons\n",
        "  *   Holiday\n",
        "  *   Functioning day\n",
        "4. Rename column where required\n",
        "  * Temperature(°C)\n",
        "   * Humidity(%)\n",
        "   * Wind speed (m/s)\n",
        "   * Visibility (10m)\n",
        "   * Dew point temperature(°C)\n",
        "   * Solar Radiation (MJ/m2)\n",
        "   * Rainfall(mm)\n",
        "   * Snowfall (cm)\n",
        "   * Rented Bike Count\n",
        "   *Functioning Day\n",
        "   \n",
        "   (Beacuse spaces and variables having units in brackets makes difficult to copy variable name.)\n",
        "\n",
        "\n",
        "\n"
      ],
      "metadata": {
        "id": "_cxhEGWHGXL3"
      }
    },
    {
      "cell_type": "code",
      "source": [],
      "metadata": {
        "id": "GLrza5f3IJ5V"
      },
      "execution_count": null,
      "outputs": []
    }
  ]
}